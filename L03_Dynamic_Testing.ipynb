{
  "cells": [
    {
      "cell_type": "markdown",
      "metadata": {
        "id": "view-in-github",
        "colab_type": "text"
      },
      "source": [
        "<a href=\"https://colab.research.google.com/github/mehdihatami1998/DynamicsOfStructures/blob/main/L03_Dynamic_Testing.ipynb\" target=\"_parent\"><img src=\"https://colab.research.google.com/assets/colab-badge.svg\" alt=\"Open In Colab\"/></a>"
      ]
    },
    {
      "cell_type": "markdown",
      "metadata": {
        "id": "MOdkp4QE6PPs"
      },
      "source": [
        "# Dynamic Testing"
      ]
    },
    {
      "cell_type": "markdown",
      "metadata": {
        "id": "xx1Lx4yc6PPz"
      },
      "source": [
        "We want to measure the dynamical characteristics of a SDOF building system,\n",
        "i.e., its mass, its damping coefficient and its elastic stiffness.\n",
        "\n",
        "To this purpose, we demonstrate that is sufficient to measure the steady-state\n",
        "response of the SDOF when subjected to a number of harmonic excitations with\n",
        "different frequencies.\n",
        "\n",
        "The steady-state response is characterized by its amplitude, $ρ$ and the phase\n",
        "delay, $θ$, as in $x_{SS}(t) = ρ \\sin(ωt − θ)$.\n",
        "\n",
        "A SDOF structural system is excited by a vibrodyne that exerts a harmonic force\n",
        "$p(t) = p_o\\sin ωt$, with $p_o = 2.224\\,{}$kN at different frequencies, and we can\n",
        "measure the steady-state response parameters for two different input frequencies,\n",
        "as detailed in the following table.\n",
        "\n",
        "<style type=\"text/css\">\n",
        ".tg  {border-collapse:collapse;border-spacing:0;text-align:center;}\n",
        ".tg td{font-size:14px;padding:10px 5px;border-style:solid;border-width:1px;overflow:hidden;word-break:normal;text-align:center;}\n",
        ".tg th{font-size:14px;font-weight:normal;padding:10px 5px;border-style:solid;border-width:1px;overflow:hidden;word-break:normal;text-align:center;}\n",
        "</style>\n",
        "<center>\n",
        "<table class=\"tg\">\n",
        "  <tr>\n",
        "    <th class=\"tg-031e\">$i$</th>\n",
        "    <th class=\"tg-031e\">$ω_i$ (rad/s)</th>\n",
        "    <th class=\"tg-031e\">$ρ_i$ (μm)</th>\n",
        "    <th class=\"tg-031e\">$θ_i$ (deg) </th>\n",
        "    <th class=\"tg-031e\">$\\cos θ_i$</th>\n",
        "    <th class=\"tg-031e\">$\\sin θ_i$</th>\n",
        "  </tr>\n",
        "  <tr>\n",
        "    <td class=\"tg-031e\">1</td>\n",
        "    <td class=\"tg-031e\">16.0</td>\n",
        "    <td class=\"tg-031e\">183.0</td>\n",
        "    <td class=\"tg-031e\">15.0</td>\n",
        "    <td class=\"tg-031e\">0.9660</td>\n",
        "    <td class=\"tg-031e\">0.2590</td>\n",
        "  </tr>\n",
        "  <tr>\n",
        "    <td class=\"tg-031e\">2</td>\n",
        "    <td class=\"tg-031e\">25.0</td>\n",
        "    <td class=\"tg-031e\">368.0</td>\n",
        "    <td class=\"tg-031e\">55.0</td>\n",
        "    <td class=\"tg-031e\">0.5740</td>\n",
        "    <td class=\"tg-031e\">0.8190</td>\n",
        "  </tr>\n",
        "</table>\n",
        "</center>"
      ]
    },
    {
      "cell_type": "markdown",
      "metadata": {
        "id": "0f0_lxcW6PP3"
      },
      "source": [
        "## Determination of $k$ and $m$"
      ]
    },
    {
      "cell_type": "markdown",
      "metadata": {
        "id": "080ZL5Zl6PP4"
      },
      "source": [
        "We start from the equation for steady-state response amplitude,\n",
        "\n",
        "$$\\rho=\\frac{p_o}{k}\\frac{1}{\\sqrt{(1-\\beta^2)^2+(2\\zeta\\beta)^2}}$$\n",
        "\n",
        "where we collect $(1-\\beta^2)^2$ in the radicand in the right member,\n",
        "\n",
        "$$\\rho=\\frac{p_o}{k}\\frac{1}{1-\\beta^2}\\frac{1}{\\sqrt{1+[2\\zeta\\beta/(1-\\beta^2)]^2}}$$\n",
        "\n",
        "but the equation for the phase angle,\n",
        "$\\tan\\vartheta=\\frac{2\\zeta\\beta}{1-\\beta^2}$, can be substituted in\n",
        "the radicand, so that, using simple trigonometric identities, we find that\n",
        "\n",
        "$$\\rho=\\frac{p_o}{k}\\frac{1}{1-\\beta^2}\\frac{1}{\\sqrt{1+\\tan^2\\vartheta}}=\n",
        "\\frac{p_o}{k}\\frac{\\cos\\vartheta}{1-\\beta^2}.$$\n",
        "\n",
        "With $k(1-\\beta^2)=k-k\\frac{\\omega^2}{k/m}=k-\\omega^2m$   and using a\n",
        "simple rearrangement, we eventually have\n",
        "\n",
        "\n",
        "<center>\n",
        "$\\displaystyle{k-\\omega^2m=\\frac{p_o}{\\rho}\\cos\\vartheta.}$\n",
        "</center>"
      ]
    },
    {
      "cell_type": "code",
      "execution_count": null,
      "metadata": {
        "id": "RDtVfn0U6PP6"
      },
      "outputs": [],
      "source": [
        "from numpy import array, sqrt, pi, cos, sin, set_printoptions\n",
        "from numpy.linalg import inv\n",
        "\n",
        "p0 = 2224.0 # converted from kN to Newton\n",
        "rho1 = 183E-6 ; rho2 = 368E-6 # converted from μm to m\n",
        "w1 = 16.0 ; w2 = 25.0 \n",
        "th1 = 15.0 ; th2 = 55.0\n",
        "d2r = pi/180.\n",
        "cos1 = cos(d2r*th1) ; cos2 = cos(d2r*th2)\n",
        "sin1 = sin(d2r*th1) ; sin2 = sin(d2r*th2)"
      ]
    },
    {
      "cell_type": "code",
      "execution_count": null,
      "metadata": {
        "id": "1vfWwpb86PP9",
        "outputId": "474caded-8a7a-4909-c1a5-4a53832fee89"
      },
      "outputs": [
        {
          "name": "stdout",
          "output_type": "stream",
          "text": [
            "[[   1. -256.]\n",
            " [   1. -625.]]\n",
            "[[11738901.84517425]\n",
            " [ 3466396.72403458]]\n"
          ]
        }
      ],
      "source": [
        "# the unknowns are k and m\n",
        "# coefficient matrix, row i is 1, omega_i^2\n",
        "coeff = array(((1, -w1**2),(1, -w2**2)))\n",
        "# kt i.e., know term, cos(theta_i)/rho_i * p_0\n",
        "kt = p0*array((cos1/rho1,cos2/rho2))[:,None]\n",
        "print(coeff)\n",
        "print(kt)"
      ]
    },
    {
      "cell_type": "code",
      "execution_count": null,
      "metadata": {
        "id": "KgcmqqAt6PP_",
        "outputId": "18537e99-ef7f-4e85-e4a9-23bdd8fddb9c"
      },
      "outputs": [
        {
          "name": "stdout",
          "output_type": "stream",
          "text": [
            "           k           m         ωn²          ωn\n",
            "17478092.390   22418.713     779.621      27.922\n"
          ]
        }
      ],
      "source": [
        "k_and_m = inv(coeff)@kt\n",
        "k, m = k_and_m[0,0], k_and_m[1,0]\n",
        "wn2, wn = k/m, sqrt(k/m)\n",
        "print((\"%12s\"*4)%('k', 'm', 'ωn²', 'ωn'))\n",
        "print((\"%12.3f\"*4)%(k, m, wn2, wn))"
      ]
    },
    {
      "cell_type": "markdown",
      "metadata": {
        "id": "F8NJFVsu6PQA"
      },
      "source": [
        "## Determination of $\\zeta$"
      ]
    },
    {
      "cell_type": "markdown",
      "metadata": {
        "id": "-830U3sB6PQB"
      },
      "source": [
        "Using the previously established relationship for $\\cos\\vartheta$, we\n",
        "can write $\\cos\\vartheta=k(1-\\beta^2)\\frac{\\rho}{p_o}$, from the\n",
        "equation of the phase angle (see above), we can write $\\cos\\vartheta =\n",
        "\\frac{1-\\beta^2}{2\\zeta\\beta}\\sin\\vartheta$, and finally\n",
        "\n",
        "$$\\frac{\\rho k}{p_o}=\\frac{\\sin\\vartheta}{2\\zeta\\beta},\n",
        "\\quad\\text{hence}\\quad\n",
        "\\zeta=\\frac{p_o}{\\rho k}\\frac{\\sin\\vartheta}{2\\beta}$$\n",
        "\n",
        "Let's write some code that gives us our two estimates"
      ]
    },
    {
      "cell_type": "code",
      "execution_count": null,
      "metadata": {
        "id": "5NnzCca46PQC",
        "outputId": "a21a90a9-e6d2-4006-d965-f2beb5ccef59"
      },
      "outputs": [
        {
          "name": "stdout",
          "output_type": "stream",
          "text": [
            "15.702817771628052 15.817182468157377\n"
          ]
        }
      ],
      "source": [
        "z1 = p0*sin1/rho1/k/2/(w1/wn)\n",
        "z2 = p0*sin2/rho2/k/2/(w2/wn)\n",
        "print(z1*100, z2*100)"
      ]
    },
    {
      "cell_type": "markdown",
      "metadata": {
        "id": "ovO9P5Xc6PQC"
      },
      "source": [
        "## Experimental approximation"
      ]
    },
    {
      "cell_type": "markdown",
      "metadata": {
        "id": "njS9EUFR6PQD"
      },
      "source": [
        "We have seen that our two estimates for $\\zeta$ are sligtly different, this is due to\n",
        "the fact that every measurement is slightly approximated...\n",
        "\n",
        "One can partly obviate using a number of measurements larger, or even much larger, than\n",
        "the number of parameters s/he's trying to determine.\n",
        "\n",
        "In our case, for each set of $M$ observations (an observation for us is a set of three values, $\\omega_i, \\rho_i, \\theta_i$) we can write a linear equation in the $N=2$ unknowns $k$ and $m$ so that, with $b_i = p_o \\cos\\theta_i/\\rho_i$, we can write\n",
        "\n",
        "$$Ax-b=0$$"
      ]
    },
    {
      "cell_type": "markdown",
      "metadata": {
        "id": "s9Vy8eCz6PQD"
      },
      "source": [
        "$Ax-b=0$ is a set of $M$ equations in $N<M$ variables that cannot have an exact solution but we can introduce a vector of errors (or _residuals_ ) with respect to an approximate solution  $y \\approx x$,\n",
        "\n",
        "$$e = A\\,y - b$$\n",
        "\n",
        "and assume (reasonably) that the _best solution_ is the one that minimizes the scalar norm of the residual\n",
        "\n",
        "$$\\left|e\\right|=(y^TA^T- b^T)(A\\,y - b) = y^TA^TA\\,y - 2 y^TA^Tb +b^Tb$$\n",
        "\n",
        "Minimizing the norm is equivalent to take the derivatives of the above expression with respect to each\n",
        "of the $y_i$ unknowns and equate every derivative to zero,\n",
        "\n",
        "$$\\frac{\\partial |e|}{\\partial y_i} = 0,\\quad\\text{for }i=1,\\ldots,N$$\n",
        "\n",
        "and the set of equations above can be written using matrix notation: \n",
        "\n",
        "$$A^TA\\,y - A^Tb = 0.$$\n",
        "\n",
        "Solving the above equatio gives $y  =(A^TA)^{-1}A^Tb$, and $y$ is the vector of parameters that minimizes the norm\n",
        "of the residual.\n",
        "\n",
        "<span style=\"color:blue\">The usual name of the procedure that I have sketched is, of course, _\"Least Squares Parameter Estimation\"_.</span>\n",
        "\n",
        "We'll deal again with the derivative of a quadratic form in the future... "
      ]
    }
  ],
  "metadata": {
    "kernelspec": {
      "display_name": "Python 3 (ipykernel)",
      "language": "python",
      "name": "python3"
    },
    "language_info": {
      "codemirror_mode": {
        "name": "ipython",
        "version": 3
      },
      "file_extension": ".py",
      "mimetype": "text/x-python",
      "name": "python",
      "nbconvert_exporter": "python",
      "pygments_lexer": "ipython3",
      "version": "3.8.12"
    },
    "colab": {
      "provenance": [],
      "include_colab_link": true
    }
  },
  "nbformat": 4,
  "nbformat_minor": 0
}