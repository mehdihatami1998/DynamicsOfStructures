{
  "cells": [
    {
      "cell_type": "markdown",
      "metadata": {
        "id": "view-in-github",
        "colab_type": "text"
      },
      "source": [
        "<a href=\"https://colab.research.google.com/github/mehdihatami1998/DynamicsOfStructures/blob/main/L04_Compute_the_coefficients_of_the_Fourier_Series.ipynb\" target=\"_parent\"><img src=\"https://colab.research.google.com/assets/colab-badge.svg\" alt=\"Open In Colab\"/></a>"
      ]
    },
    {
      "cell_type": "markdown",
      "source": [
        "# Fourier Series of f(t) = max{0, sin(2πt/T)}"
      ],
      "metadata": {
        "id": "pKZEXOVC_vbW"
      },
      "id": "pKZEXOVC_vbW"
    },
    {
      "cell_type": "code",
      "execution_count": null,
      "id": "83647ca5",
      "metadata": {
        "colab": {
          "base_uri": "https://localhost:8080/",
          "height": 915
        },
        "id": "83647ca5",
        "outputId": "9dec03c0-6988-45ba-afd5-9d9ff11c5fc0"
      },
      "outputs": [
        {
          "output_type": "display_data",
          "data": {
            "text/plain": [
              "Eq(a0, p0/pi)"
            ],
            "text/latex": "$\\displaystyle a_{0} = \\frac{p_{0}}{\\pi}$"
          },
          "metadata": {}
        },
        {
          "output_type": "display_data",
          "data": {
            "text/plain": [
              "Eq(b0, 0)"
            ],
            "text/latex": "$\\displaystyle b_{0} = 0$"
          },
          "metadata": {}
        },
        {
          "output_type": "stream",
          "name": "stdout",
          "text": [
            "\n"
          ]
        },
        {
          "output_type": "display_data",
          "data": {
            "text/plain": [
              "Eq(a1, 0)"
            ],
            "text/latex": "$\\displaystyle a_{1} = 0$"
          },
          "metadata": {}
        },
        {
          "output_type": "display_data",
          "data": {
            "text/plain": [
              "Eq(b1, p0/2)"
            ],
            "text/latex": "$\\displaystyle b_{1} = \\frac{p_{0}}{2}$"
          },
          "metadata": {}
        },
        {
          "output_type": "stream",
          "name": "stdout",
          "text": [
            "\n"
          ]
        },
        {
          "output_type": "display_data",
          "data": {
            "text/plain": [
              "Eq(a2, -2*p0/(3*pi))"
            ],
            "text/latex": "$\\displaystyle a_{2} = - \\frac{2 p_{0}}{3 \\pi}$"
          },
          "metadata": {}
        },
        {
          "output_type": "display_data",
          "data": {
            "text/plain": [
              "Eq(b2, 0)"
            ],
            "text/latex": "$\\displaystyle b_{2} = 0$"
          },
          "metadata": {}
        },
        {
          "output_type": "stream",
          "name": "stdout",
          "text": [
            "\n"
          ]
        },
        {
          "output_type": "display_data",
          "data": {
            "text/plain": [
              "Eq(a3, 0)"
            ],
            "text/latex": "$\\displaystyle a_{3} = 0$"
          },
          "metadata": {}
        },
        {
          "output_type": "display_data",
          "data": {
            "text/plain": [
              "Eq(b3, 0)"
            ],
            "text/latex": "$\\displaystyle b_{3} = 0$"
          },
          "metadata": {}
        },
        {
          "output_type": "stream",
          "name": "stdout",
          "text": [
            "\n"
          ]
        },
        {
          "output_type": "display_data",
          "data": {
            "text/plain": [
              "Eq(a4, -2*p0/(15*pi))"
            ],
            "text/latex": "$\\displaystyle a_{4} = - \\frac{2 p_{0}}{15 \\pi}$"
          },
          "metadata": {}
        },
        {
          "output_type": "display_data",
          "data": {
            "text/plain": [
              "Eq(b4, 0)"
            ],
            "text/latex": "$\\displaystyle b_{4} = 0$"
          },
          "metadata": {}
        },
        {
          "output_type": "stream",
          "name": "stdout",
          "text": [
            "\n"
          ]
        },
        {
          "output_type": "display_data",
          "data": {
            "text/plain": [
              "Eq(a5, 0)"
            ],
            "text/latex": "$\\displaystyle a_{5} = 0$"
          },
          "metadata": {}
        },
        {
          "output_type": "display_data",
          "data": {
            "text/plain": [
              "Eq(b5, 0)"
            ],
            "text/latex": "$\\displaystyle b_{5} = 0$"
          },
          "metadata": {}
        },
        {
          "output_type": "stream",
          "name": "stdout",
          "text": [
            "\n"
          ]
        },
        {
          "output_type": "display_data",
          "data": {
            "text/plain": [
              "Eq(a6, -2*p0/(35*pi))"
            ],
            "text/latex": "$\\displaystyle a_{6} = - \\frac{2 p_{0}}{35 \\pi}$"
          },
          "metadata": {}
        },
        {
          "output_type": "display_data",
          "data": {
            "text/plain": [
              "Eq(b6, 0)"
            ],
            "text/latex": "$\\displaystyle b_{6} = 0$"
          },
          "metadata": {}
        },
        {
          "output_type": "stream",
          "name": "stdout",
          "text": [
            "\n"
          ]
        },
        {
          "output_type": "display_data",
          "data": {
            "text/plain": [
              "Eq(a7, 0)"
            ],
            "text/latex": "$\\displaystyle a_{7} = 0$"
          },
          "metadata": {}
        },
        {
          "output_type": "display_data",
          "data": {
            "text/plain": [
              "Eq(b7, 0)"
            ],
            "text/latex": "$\\displaystyle b_{7} = 0$"
          },
          "metadata": {}
        },
        {
          "output_type": "stream",
          "name": "stdout",
          "text": [
            "\n"
          ]
        },
        {
          "output_type": "display_data",
          "data": {
            "text/plain": [
              "Eq(a8, -2*p0/(63*pi))"
            ],
            "text/latex": "$\\displaystyle a_{8} = - \\frac{2 p_{0}}{63 \\pi}$"
          },
          "metadata": {}
        },
        {
          "output_type": "display_data",
          "data": {
            "text/plain": [
              "Eq(b8, 0)"
            ],
            "text/latex": "$\\displaystyle b_{8} = 0$"
          },
          "metadata": {}
        },
        {
          "output_type": "stream",
          "name": "stdout",
          "text": [
            "\n"
          ]
        },
        {
          "output_type": "display_data",
          "data": {
            "text/plain": [
              "Eq(a9, 0)"
            ],
            "text/latex": "$\\displaystyle a_{9} = 0$"
          },
          "metadata": {}
        },
        {
          "output_type": "display_data",
          "data": {
            "text/plain": [
              "Eq(b9, 0)"
            ],
            "text/latex": "$\\displaystyle b_{9} = 0$"
          },
          "metadata": {}
        },
        {
          "output_type": "stream",
          "name": "stdout",
          "text": [
            "\n"
          ]
        },
        {
          "output_type": "display_data",
          "data": {
            "text/plain": [
              "Eq(a10, -2*p0/(99*pi))"
            ],
            "text/latex": "$\\displaystyle a_{10} = - \\frac{2 p_{0}}{99 \\pi}$"
          },
          "metadata": {}
        },
        {
          "output_type": "display_data",
          "data": {
            "text/plain": [
              "Eq(b10, 0)"
            ],
            "text/latex": "$\\displaystyle b_{10} = 0$"
          },
          "metadata": {}
        },
        {
          "output_type": "stream",
          "name": "stdout",
          "text": [
            "\n"
          ]
        },
        {
          "output_type": "display_data",
          "data": {
            "text/plain": [
              "Eq(a11, 0)"
            ],
            "text/latex": "$\\displaystyle a_{11} = 0$"
          },
          "metadata": {}
        },
        {
          "output_type": "display_data",
          "data": {
            "text/plain": [
              "Eq(b11, 0)"
            ],
            "text/latex": "$\\displaystyle b_{11} = 0$"
          },
          "metadata": {}
        },
        {
          "output_type": "stream",
          "name": "stdout",
          "text": [
            "\n"
          ]
        },
        {
          "output_type": "display_data",
          "data": {
            "text/plain": [
              "Eq(a12, -2*p0/(143*pi))"
            ],
            "text/latex": "$\\displaystyle a_{12} = - \\frac{2 p_{0}}{143 \\pi}$"
          },
          "metadata": {}
        },
        {
          "output_type": "display_data",
          "data": {
            "text/plain": [
              "Eq(b12, 0)"
            ],
            "text/latex": "$\\displaystyle b_{12} = 0$"
          },
          "metadata": {}
        },
        {
          "output_type": "stream",
          "name": "stdout",
          "text": [
            "\n"
          ]
        }
      ],
      "source": [
        "from sympy import *\n",
        "t, T, p0 = symbols('t T p0', positive=True)\n",
        "for i in range(13):\n",
        "    j = 1 if i == 0 else 2\n",
        "    display((Eq(symbols('a%d'%i), j*p0/T*integrate(cos(i*2*pi*t/T)*sin(2*pi*t/T), (t, 0, T/2)))),\n",
        "             Eq(symbols('b%d'%i), 2*p0/T*integrate(sin(i*2*pi*t/T)*sin(2*pi*t/T), (t, 0, T/2))))\n",
        "    print()"
      ]
    }
  ],
  "metadata": {
    "kernelspec": {
      "display_name": "Python 3.9 (ipykernel)",
      "language": "python",
      "name": "python3.9"
    },
    "language_info": {
      "codemirror_mode": {
        "name": "ipython",
        "version": 3
      },
      "file_extension": ".py",
      "mimetype": "text/x-python",
      "name": "python",
      "nbconvert_exporter": "python",
      "pygments_lexer": "ipython3",
      "version": "3.9.10"
    },
    "colab": {
      "provenance": [],
      "include_colab_link": true
    }
  },
  "nbformat": 4,
  "nbformat_minor": 5
}