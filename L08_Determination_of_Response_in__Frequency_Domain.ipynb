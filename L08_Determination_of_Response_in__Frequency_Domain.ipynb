{
  "cells": [
    {
      "cell_type": "markdown",
      "metadata": {
        "id": "view-in-github",
        "colab_type": "text"
      },
      "source": [
        "<a href=\"https://colab.research.google.com/github/mehdihatami1998/DynamicsOfStructures/blob/main/Determination_of_Response_in__Frequency_Domain.ipynb\" target=\"_parent\"><img src=\"https://colab.research.google.com/assets/colab-badge.svg\" alt=\"Open In Colab\"/></a>"
      ]
    },
    {
      "cell_type": "code",
      "execution_count": null,
      "metadata": {
        "collapsed": true,
        "id": "CJavWvtu46IY"
      },
      "outputs": [],
      "source": [
        "from pylab import *\n",
        "%matplotlib inline"
      ]
    },
    {
      "cell_type": "markdown",
      "metadata": {
        "id": "P-v7waYQ46Ih"
      },
      "source": [
        "# Exact Integration for an EP SDOF System\n",
        "\n",
        "We want to compute the response, using the constant\n",
        "acceleration algorithm plus MNR, of an Elasto Plastic (EP)\n",
        "system... but how we can confirm or reject our results?\n",
        "\n",
        "It turns out that computing the exact response of an EP system with \n",
        "a single degree of freedom is relatively simple.\n",
        "\n",
        "Here we discuss a program that computes the analytical solution of\n",
        "our problem.\n",
        "\n",
        "The main building blocks of the program will be two functions\n",
        "that compute, for the elastic phase and for the plastic phase,\n",
        "the analytical functions that give the displacement and the\n",
        "velocity as functions of time."
      ]
    },
    {
      "cell_type": "markdown",
      "metadata": {
        "id": "UeoYSDDT46Ij"
      },
      "source": [
        "## Elastic response\n",
        "\n",
        "We are definining a function that, for a linear dynamic system,\n",
        "returns not the displacement or the velocity at a given time,\n",
        "but rather a couple of functions of time that we can use afterwards\n",
        "to compute displacements and velecities at any time of interest.\n",
        "\n",
        "The response depends on the parameters of the dynamic system $m,c,k,$\n",
        "on the initial conditions $x_0, v_0,$ and on the characteristics of the external load.\n",
        "\n",
        "Here the external load is limited to a linear combination of a cosine modulated,\n",
        "a sine modulated (both with the same frequency $\\omega$) and a constant force,\n",
        "\n",
        "<center>$P(t) = c_C \\cos\\omega t + c_S \\sin\\omega t + F,$</center>\n",
        "\n",
        "but that's all that is needed for the present problem.\n",
        "\n",
        "The particular integral being\n",
        "\n",
        "<center>$\\xi(t) = S \\cos\\omega t + R \\sin\\omega t + D,$</center>\n",
        "\n",
        "substituting in the equation of motion and equating all the corresponding\n",
        "terms gives the undetermined coefficients in $\\xi(t)$, then evaluation of the general\n",
        "integral and its time derivative for $t=0$ permits to find the constants in the homogeneous\n",
        "part of the integral.\n",
        "\n",
        "The final step is to define the displacement and the velocity function, according to \n",
        "the constants we have determined, and to return these two function to the caller"
      ]
    },
    {
      "cell_type": "code",
      "execution_count": null,
      "metadata": {
        "collapsed": true,
        "id": "zf0kcQaO46Ik"
      },
      "outputs": [],
      "source": [
        "def resp_elas(m,c,k, cC,cS,w, F, x0,v0):\n",
        "    wn2 = k/m ; wn = sqrt(wn2) ; beta = w/wn\n",
        "    z = c/(2*m*wn)\n",
        "    wd = wn*sqrt(1-z*z)\n",
        "    # xi(t) = R sin(w t) + S cos(w t) + D\n",
        "    det = (1.-beta**2)**2+(2*beta*z)**2\n",
        "    R = ((1-beta**2)*cS + (2*beta*z)*cC)/det/k\n",
        "    S = ((1-beta**2)*cC - (2*beta*z)*cS)/det/k\n",
        "    D = F/k\n",
        "    A = x0-S-D\n",
        "    B = (v0+z*wn*A-w*R)/wd\n",
        "    \n",
        "    def x(t):\n",
        "        return exp(-z*wn*t)*(A*cos(wd*t)+B*sin(wd*t))+R*sin(w*t)+S*cos(w*t)+D\n",
        "    \n",
        "    def v(t):\n",
        "        return (-z*wn*exp(-z*wn*t)*(A*cos(wd*t)+B*sin(wd*t))\n",
        "                  +wd*exp(-z*wn*t)*(B*cos(wd*t)-A*sin(wd*t))\n",
        "                  +w*(R*cos(w*t)-S*sin(w*t)))\n",
        "    return x,v   "
      ]
    },
    {
      "cell_type": "markdown",
      "metadata": {
        "id": "XD6zKTEd46Il"
      },
      "source": [
        "## Plastic response\n",
        "\n",
        "In this case the equation of motion is\n",
        "\n",
        "<center>$m\\ddot x + c \\dot x = P(t),$</center>\n",
        "\n",
        "the homogeneous response is \n",
        "\n",
        "<center>$x(t)=A\\exp(-\\frac{c}{m}t)+B,$</center>\n",
        "\n",
        "and the particular integral, for a load described\n",
        "as in the previous case, is again\n",
        "\n",
        "<center>$\\xi(t) = S \\cos\\omega t + R \\sin\\omega t + D.$</center>\n",
        "\n",
        "Having computed $R, S,$ and $D$ from substituting $\\xi$ \n",
        "in the equation of motion, $A$ and $B$ by imposing \n",
        "the initial conditions,we can define the displacement and velocity \n",
        "functions and, finally, return these two functions to the caller."
      ]
    },
    {
      "cell_type": "code",
      "execution_count": null,
      "metadata": {
        "collapsed": true,
        "id": "sfcZdud846Im"
      },
      "outputs": [],
      "source": [
        "def resp_yield(m,c, cC,cS,w, F, x0,v0):\n",
        "    # csi(t) = R sin(w t) + S cos(w t) + Q t\n",
        "    Q = F/c\n",
        "    det = w**2*(c**2+w**2*m**2)\n",
        "    R = (+w*c*cC-w*w*m*cS)/det\n",
        "    S = (-w*c*cS-w*w*m*cC)/det\n",
        "    # x(t) = A exp(-c t/m) + B + R sin(w t) + S cos(w t) + Q t\n",
        "    # v(t) = - c A/m exp(-c t/m) + w R cos(w t) - w S sin(w t) + Q\n",
        "    #\n",
        "    # v(0) = -c A / m + w R + Q = v0\n",
        "    A = m*(w*R + Q - v0)/c\n",
        "    # x(0) = A + B + S = x0\n",
        "    B = x0 - A - S\n",
        "    \n",
        "    def x(t):\n",
        "        return A*exp(-c*t/m)+B+R*sin(w*t)+S*cos(w*t)+Q*t\n",
        "    def v(t):\n",
        "        return -c*A*exp(-c*t/m)/m+w*R*cos(w*t)-w*S*sin(w*t)+Q\n",
        "    \n",
        "    return x,v"
      ]
    },
    {
      "cell_type": "markdown",
      "metadata": {
        "id": "ZyCagQCr46Im"
      },
      "source": [
        "### An utility function\n",
        "\n",
        "We need to find when\n",
        "\n",
        " 1. the spring yields\n",
        " 2. the velocity is zero\n",
        "\n",
        "to individuate the three ranges of different behaviour\n",
        "\n",
        " 1. elastic\n",
        " 2. plastic\n",
        " 3. elastic, with permanent deformation.\n",
        "\n",
        "We can use the simple and robust algorithm of *bisection* \n",
        "to find the roots for \n",
        "\n",
        "<center>$x_{el}(t)=x_y \\text{ and } \\dot{x}_{ep}(t)=0$.</center>"
      ]
    },
    {
      "cell_type": "code",
      "execution_count": null,
      "metadata": {
        "collapsed": true,
        "id": "G_n-DqGW46In"
      },
      "outputs": [],
      "source": [
        "def bisect(f,val,x0,x1):\n",
        "    h  = (x0+x1)/2.0\n",
        "    fh = f(h)-val\n",
        "    if abs(fh)<1e-8 : return h\n",
        "    f0 = f(x0)-val\n",
        "    if f0*fh > 0 : \n",
        "        return bisect(f, val, h, x1)\n",
        "    else:\n",
        "        return bisect(f, val, x0, h)"
      ]
    },
    {
      "cell_type": "markdown",
      "metadata": {
        "id": "saZXa19i46Io"
      },
      "source": [
        "## The system parameters"
      ]
    },
    {
      "cell_type": "code",
      "execution_count": null,
      "metadata": {
        "collapsed": true,
        "id": "6NZvAeIh46Ip"
      },
      "outputs": [],
      "source": [
        "mass = 1000.   # kg\n",
        "k    = 40000.  # N/m\n",
        "zeta = 0.03    # damping ratio\n",
        "fy   = 2500.   # N"
      ]
    },
    {
      "cell_type": "markdown",
      "metadata": {
        "id": "9Ri-vFed46Ip"
      },
      "source": [
        "## Derived quantities\n",
        "\n",
        "The damping coefficient $c$ and the first yielding displacement, $x_y$."
      ]
    },
    {
      "cell_type": "code",
      "execution_count": null,
      "metadata": {
        "id": "Gku0Xr2J46Iq"
      },
      "outputs": [],
      "source": [
        "damp = 2*zeta*sqrt(k*mass)\n",
        "xy = fy/k    # m"
      ]
    },
    {
      "cell_type": "markdown",
      "metadata": {
        "id": "UNjmqJHg46Iq"
      },
      "source": [
        "## Load definition\n",
        "\n",
        "Our load is a half-sine impulse\n",
        "\n",
        "<center>$p(t)=\\begin{cases}p_0\\sin(\\frac{\\pi t}{t_1})&0\\leq t\\leq t_1,\\\\\\\n",
        "    0&\\text{otherwise.}\\end{cases}$</center>\n",
        "\n",
        "In our exercise"
      ]
    },
    {
      "cell_type": "code",
      "execution_count": null,
      "metadata": {
        "id": "pJ1C9AjV46Iq"
      },
      "outputs": [],
      "source": [
        "t1 = 0.3     # s\n",
        "w  = pi/t1   # rad/s\n",
        "Po = 6000.   # N"
      ]
    },
    {
      "cell_type": "markdown",
      "metadata": {
        "id": "tPSUC5Ql46Ir"
      },
      "source": [
        "## The actual computations\n",
        "### Elastic, initial conditions, get system functions"
      ]
    },
    {
      "cell_type": "code",
      "execution_count": null,
      "metadata": {
        "id": "kYYpCl5B46Ir"
      },
      "outputs": [],
      "source": [
        "x0=0.0     # m\n",
        "v0=0.0     # m/s\n",
        "x_next, v_next = resp_elas(mass,damp,k, 0.0,Po,w, 0.0, x0,v0)"
      ]
    },
    {
      "cell_type": "markdown",
      "metadata": {
        "id": "L2q6goxX46Ir"
      },
      "source": [
        "### Yielding time is\n",
        "\n",
        "The time of yielding is found solving the equation $x_\\text{next}(t) = x_y$"
      ]
    },
    {
      "cell_type": "code",
      "execution_count": null,
      "metadata": {
        "id": "x3cBE4gE46Is",
        "outputId": "96838674-3499-48b5-a762-1a2573129443"
      },
      "outputs": [
        {
          "name": "stdout",
          "output_type": "stream",
          "text": [
            "0.2032657027244568 2500.00009219\n"
          ]
        }
      ],
      "source": [
        "t_yield = bisect(x_next, xy, 0.0, t1)\n",
        "print (t_yield, x_next(t_yield)*k)"
      ]
    },
    {
      "cell_type": "code",
      "execution_count": null,
      "metadata": {
        "id": "DldhYhE946It",
        "outputId": "e5f9ae6e-2af3-49f3-cac4-7ff9ceb9a959"
      },
      "outputs": [
        {
          "data": {
            "text/plain": [
              "<matplotlib.text.Text at 0x7f79981430b8>"
            ]
          },
          "execution_count": 10,
          "metadata": {},
          "output_type": "execute_result"
        },
        {
          "data": {
            "image/png": "[encoded data removed]",
            "text/plain": [
              "<matplotlib.figure.Figure at 0x7f799b4a4400>"
            ]
          },
          "metadata": {},
          "output_type": "display_data"
        },
        {
          "data": {
            "image/png": "[encoded data removed]",
            "text/plain": [
              "<matplotlib.figure.Figure at 0x7f7998120710>"
            ]
          },
          "metadata": {},
          "output_type": "display_data"
        }
      ],
      "source": [
        "t_el = linspace( 0.0, t_yield, 201)\n",
        "x_el = vectorize(x_next)(t_el)\n",
        "v_el = vectorize(v_next)(t_el)\n",
        "# ------------------------------\n",
        "figure(0);grid()\n",
        "plot(t_el,x_el,\n",
        "     (0,0.25),(xy,xy),'--b',\n",
        "     (t_yield,t_yield),(0,0.0699),'--b')\n",
        "title(\"$x_{el}(t)$\")\n",
        "xlabel(\"Time, s\")\n",
        "ylabel(\"Displacement, m\")\n",
        "# ------------------------------\n",
        "figure(1);grid()\n",
        "plot(t_el,v_el)\n",
        "title(\"$\\dot x_{el}(t)$\")\n",
        "xlabel(\"Time, s\")\n",
        "ylabel(\"Velocity, m/s\");"
      ]
    },
    {
      "cell_type": "markdown",
      "metadata": {
        "id": "Da6vnR6p46Iu"
      },
      "source": [
        "### Preparing for EP response\n",
        "First, the system state at $t_y$ is the initial condition for the EP response"
      ]
    },
    {
      "cell_type": "code",
      "execution_count": null,
      "metadata": {
        "id": "D76a351846Iu",
        "outputId": "25cd52d4-67ab-4dc6-a686-141de351f7b6"
      },
      "outputs": [
        {
          "name": "stdout",
          "output_type": "stream",
          "text": [
            "0.0625000023047 0.709743249699\n"
          ]
        }
      ],
      "source": [
        "x0=x_next(t_yield)\n",
        "v0=v_next(t_yield)\n",
        "print (x0, v0)"
      ]
    },
    {
      "cell_type": "markdown",
      "metadata": {
        "id": "wxRzQD9p46Iu"
      },
      "source": [
        "now, the load must be expressed in function of a *restarted time*,\n",
        "\n",
        "<center>\n",
        "    $\\tau=t-t_y\\;\\rightarrow\\;t=\\tau+t_y\\;\\rightarrow\\;\\sin(\\omega t)=\\sin(\\omega\\tau+\\omega t_y)$\n",
        " </center> <center>  \n",
        "    $\\rightarrow\\;\\sin(\\omega t)=\\sin(\\omega\\tau)\\cos(\\omega t_y)+\\cos(\\omega\\tau)\\sin(\\omega t_y)$\n",
        "</center>"
      ]
    },
    {
      "cell_type": "code",
      "execution_count": null,
      "metadata": {
        "id": "ITPXFHS_46Iu",
        "outputId": "43ae77bf-b66e-4cb9-8fb1-3a4e9edaac62"
      },
      "outputs": [
        {
          "name": "stdout",
          "output_type": "stream",
          "text": [
            "-3000.0 -3000.0\n"
          ]
        }
      ],
      "source": [
        "cS = Po*cos(w*t_yield)\n",
        "cC = Po*sin(w*t_yield)\n",
        "\n",
        "print (Po*sin(w*0.55), cS*sin(w*(0.55-t_yield))+cC*cos(w*(0.55-t_yield)))"
      ]
    },
    {
      "cell_type": "markdown",
      "metadata": {
        "id": "EjFJKuQ946Iv"
      },
      "source": [
        "Now we generate the displacement and velocity functions for the yielded phase,\n",
        "please note that the yielded spring still exerts a constant force $f_y$ on the mass,\n",
        "and that this fact must be (and it is) taken into account."
      ]
    },
    {
      "cell_type": "code",
      "execution_count": null,
      "metadata": {
        "collapsed": true,
        "id": "t_nETGLL46Iv"
      },
      "outputs": [],
      "source": [
        "x_next, v_next = resp_yield(mass, damp,    cC,cS,w, -fy, x0,v0)"
      ]
    },
    {
      "cell_type": "markdown",
      "metadata": {
        "id": "aPDTKy9E46Iv"
      },
      "source": [
        "At this point I must confess that I have already peeked the numerical solution,\n",
        "hence I know that the velocity at $t=t_1$ is grater than 0 and I know that the current\n",
        "solution is valid in the interval $t_y\\leq t\\leq t_1$."
      ]
    },
    {
      "cell_type": "code",
      "execution_count": null,
      "metadata": {
        "collapsed": true,
        "id": "J0L-RBfE46Iv"
      },
      "outputs": [],
      "source": [
        "t_y1 = linspace(t_yield, t1, 101)\n",
        "x_y1 = vectorize(x_next)(t_y1-t_yield)\n",
        "v_y1 = vectorize(v_next)(t_y1-t_yield)"
      ]
    },
    {
      "cell_type": "code",
      "execution_count": null,
      "metadata": {
        "id": "XlqwIQ1i46Iw",
        "outputId": "8360c07b-c01e-4558-c355-9587235a3ee0"
      },
      "outputs": [
        {
          "data": {
            "text/plain": [
              "<matplotlib.text.Text at 0x7f7997d5ce10>"
            ]
          },
          "execution_count": 15,
          "metadata": {},
          "output_type": "execute_result"
        },
        {
          "data": {
            "image/png": "[encoded data removed]",
            "text/plain": [
              "<matplotlib.figure.Figure at 0x7f7997e11748>"
            ]
          },
          "metadata": {},
          "output_type": "display_data"
        },
        {
          "data": {
            "image/png": "[encoded data removed]",
            "text/plain": [
              "<matplotlib.figure.Figure at 0x7f7997dba390>"
            ]
          },
          "metadata": {},
          "output_type": "display_data"
        }
      ],
      "source": [
        "figure(3) ; grid()\n",
        "plot(t_el,x_el, t_y1,x_y1,\n",
        "     (0,0.25),(xy,xy),'--b',\n",
        "     (t_yield,t_yield),(0,0.0699),'--b')\n",
        "xlabel(\"Time, s\")\n",
        "ylabel(\"Displacement, m\")\n",
        "# ------------------------------\n",
        "figure(4) ; grid()\n",
        "plot(t_el, v_el,  t_y1, v_y1)\n",
        "xlabel(\"Time, s\")\n",
        "ylabel(\"Velocity, m/s\");"
      ]
    },
    {
      "cell_type": "markdown",
      "metadata": {
        "id": "DrAHAJOH46Iw"
      },
      "source": [
        "In the next phase,  still it is $\\dot x> 0$ so that\n",
        "the spring is still yielding,\n",
        "but now $p(t)=0$, so we must compute two new state functions,\n",
        "starting as usual from the initial conditions (note that the yielding\n",
        "force is still applied)"
      ]
    },
    {
      "cell_type": "code",
      "execution_count": null,
      "metadata": {
        "id": "dB0wV84U46Ix",
        "outputId": "e758d7e5-9f9a-4e30-9dd7-e24c151c7572"
      },
      "outputs": [
        {
          "name": "stdout",
          "output_type": "stream",
          "text": [
            "0.135209330223 0.709996878577\n",
            "0.5697131395339965\n",
            "0.229324078054\n"
          ]
        },
        {
          "data": {
            "text/plain": [
              "<matplotlib.text.Text at 0x7f7997c0a2b0>"
            ]
          },
          "execution_count": 17,
          "metadata": {},
          "output_type": "execute_result"
        },
        {
          "data": {
            "image/png": "[encoded data removed]",
            "text/plain": [
              "<matplotlib.figure.Figure at 0x7f7997d220b8>"
            ]
          },
          "metadata": {},
          "output_type": "display_data"
        },
        {
          "data": {
            "image/png": "[encoded data removed]",
            "text/plain": [
              "<matplotlib.figure.Figure at 0x7f7997c5edd8>"
            ]
          },
          "metadata": {},
          "output_type": "display_data"
        }
      ],
      "source": [
        "x0 = x_next(t1-t_yield)\n",
        "v0 = v_next(t1-t_yield)\n",
        "print (x0, v0)\n",
        "x_next, v_next = resp_yield(mass, damp, 0, 0, w, -fy, x0, v0)\n",
        "\n",
        "t2 = t1 + bisect( v_next, 0.0, 0, 0.3)\n",
        "print (t2)\n",
        "t_y2 = linspace( t1, t2, 101)\n",
        "x_y2 = vectorize(x_next)(t_y2-t1)\n",
        "v_y2 = vectorize(v_next)(t_y2-t1)\n",
        "print (x_next(t2-t1))\n",
        "# ------------------------------\n",
        "figure(5) ; grid()\n",
        "plot(t_el,x_el, t_y1,x_y1, t_y2, x_y2,\n",
        "     (0,0.25),(xy,xy),'--b',\n",
        "     (t_yield,t_yield),(0,0.0699),'--b')\n",
        "xlabel(\"Time, s\")\n",
        "ylabel(\"Displacement, m\")\n",
        "# ------------------------------\n",
        "figure(6) ; grid()\n",
        "plot(t_el, v_el,  t_y1, v_y1, t_y2, v_y2)\n",
        "xlabel(\"Time, s\")\n",
        "ylabel(\"Velocity, m/s\");"
      ]
    },
    {
      "cell_type": "markdown",
      "metadata": {
        "id": "eiffff9b46Ix"
      },
      "source": [
        "### Elastic unloading\n",
        "\n",
        "The only point worth commenting is the constant force\n",
        "that we apply to our system.\n",
        "\n",
        "The force-displacement relationship for an EP spring is \n",
        "\n",
        "<center>$f_\\text{E} = k(x-x_\\text{pl})= k x - k (x_\\text{max}-x_y)$</center>\n",
        "\n",
        "taking the negative, constant part of the last expression\n",
        "into the right member of the equation of equilibrium we have a constant\n",
        "term, as follows"
      ]
    },
    {
      "cell_type": "code",
      "execution_count": null,
      "metadata": {
        "id": "e_sf4gjg46Ix",
        "outputId": "3e7409ae-ec7e-47d1-d955-3daed4e07a82"
      },
      "outputs": [
        {
          "name": "stdout",
          "output_type": "stream",
          "text": [
            "0.229324078054 0.229324078054\n"
          ]
        }
      ],
      "source": [
        "x0 = x_next(t2-t1) ; v0 = 0.0\n",
        "print (x0, x_y2[-1])\n",
        "x_next, v_next = resp_elas(mass,damp,k, 0.0,0.0,w, k*x0-fy, x0,v0)\n",
        "t_e2 = linspace(t2,4.0,201)\n",
        "x_e2 = vectorize(x_next)(t_e2-t2)\n",
        "v_e2 = vectorize(v_next)(t_e2-t2)"
      ]
    },
    {
      "cell_type": "code",
      "execution_count": null,
      "metadata": {
        "id": "kqu79Fic46Iy",
        "outputId": "6d1c266d-df8b-431c-ac6a-d27efe26ff2f"
      },
      "outputs": [
        {
          "data": {
            "text/plain": [
              "<matplotlib.text.Text at 0x7f7997cf4400>"
            ]
          },
          "execution_count": 19,
          "metadata": {},
          "output_type": "execute_result"
        },
        {
          "data": {
            "image/png": "[encoded data removed]",
            "text/plain": [
              "<matplotlib.figure.Figure at 0x7f7997d37a90>"
            ]
          },
          "metadata": {},
          "output_type": "display_data"
        }
      ],
      "source": [
        "# ------------------------------\n",
        "figure(7) ; grid()\n",
        "plot(t_el, x_el, '-b',\n",
        "     t_y1, x_y1, '-r',\n",
        "     t_y2, x_y2, '-r',\n",
        "     t_e2, x_e2, '-b',\n",
        "     (0.6, 4.0), (x0-xy, x0-xy), '--y')\n",
        "title(\"In blue: elastic phases.\\n\"+\n",
        "      \"In red: yielding phases.\\n\"+\n",
        "      \"Dashed: permanent plastic deformation.\")\n",
        "xlabel(\"Time, s\")\n",
        "ylabel(\"Displacement, m\");"
      ]
    },
    {
      "cell_type": "markdown",
      "metadata": {
        "id": "y3AAxybm46Iy"
      },
      "source": [
        "## Numerical solution"
      ]
    },
    {
      "cell_type": "code",
      "execution_count": null,
      "metadata": {
        "collapsed": true,
        "id": "JeFhivCz46Iy"
      },
      "outputs": [],
      "source": [
        "def p(t):\n",
        "    if t<0.3:\n",
        "        return 6000.0*sin(pi*t/0.3)\n",
        "    return 0.0"
      ]
    }
  ],
  "metadata": {
    "kernelspec": {
      "display_name": "Python 3 (ipykernel)",
      "language": "python",
      "name": "python3"
    },
    "language_info": {
      "codemirror_mode": {
        "name": "ipython",
        "version": 3
      },
      "file_extension": ".py",
      "mimetype": "text/x-python",
      "name": "python",
      "nbconvert_exporter": "python",
      "pygments_lexer": "ipython3",
      "version": "3.8.12"
    },
    "colab": {
      "provenance": [],
      "include_colab_link": true
    }
  },
  "nbformat": 4,
  "nbformat_minor": 0
}
