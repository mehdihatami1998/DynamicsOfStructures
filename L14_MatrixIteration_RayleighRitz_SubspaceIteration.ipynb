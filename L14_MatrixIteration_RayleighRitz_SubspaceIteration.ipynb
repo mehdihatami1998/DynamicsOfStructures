{
  "cells": [
    {
      "cell_type": "markdown",
      "metadata": {
        "id": "view-in-github",
        "colab_type": "text"
      },
      "source": [
        "<a href=\"https://colab.research.google.com/github/mehdihatami1998/DynamicsOfStructures/blob/main/L14_MatrixIteration_RayleighRitz_SubspaceIteration.ipynb\" target=\"_parent\"><img src=\"https://colab.research.google.com/assets/colab-badge.svg\" alt=\"Open In Colab\"/></a>"
      ]
    },
    {
      "cell_type": "code",
      "execution_count": null,
      "metadata": {
        "id": "Pu0_WNzJ93xN"
      },
      "outputs": [],
      "source": [
        "import numpy as np\n",
        "import matplotlib.pyplot as plt\n",
        "from scipy.linalg import eigh\n",
        "\n",
        "from IPython.display import Math\n",
        "\n",
        "def pmat(mat, fmt='%.3g', col=True, bracket='b'):\n",
        "    env = bracket + 'matrix'\n",
        "    if len(mat.shape)==1:    # mat is a 1D array\n",
        "        mat = mat[:,None] if col else mat[None,:]\n",
        "    if len(mat.shape) !=2:\n",
        "        raise ValueError('Only 1D e 2D arrays are supported')\n",
        "    return r'\\begin{%s}%s\\end{%s}'%(env, \n",
        "      r'\\\\'.join('&'.join(fmt%elt for elt in row) for row in mat), env)\n",
        "\n",
        "def math(*l):\n",
        "    display(Math('{}'.join(el for el in l)))"
      ]
    },
    {
      "cell_type": "markdown",
      "metadata": {
        "hide_input": true,
        "id": "Z8MbYHEG93xS"
      },
      "source": [
        "# Matrix Iteration, Rayleigh–Ritz, Subspace Iteration\n",
        "\n",
        "## Problem Statement\n",
        "\n",
        "We are studying a shear type frame with $n_s$ storeys, where all floor masses are the same, $m_i=m,\\ i=1,\\ldots,n_s$, and also the lateral storey stiffnesses are the same¸ $k_i=k,\\ i=1,\\ldots,n_s$."
      ]
    },
    {
      "cell_type": "markdown",
      "metadata": {
        "hide_input": true,
        "id": "3u0ZUEFx93xU"
      },
      "source": [
        "### Number of stories"
      ]
    },
    {
      "cell_type": "code",
      "execution_count": null,
      "metadata": {
        "id": "lmfncKTh93xV"
      },
      "outputs": [],
      "source": [
        "ns = 12"
      ]
    },
    {
      "cell_type": "markdown",
      "metadata": {
        "id": "ciuAW4va93xV"
      },
      "source": [
        "### Structural Matrices\n",
        "\n",
        "The mass matrix is $\\mathbf M = m\\,\\mathbf I$, the stiffness matrix is tridiagonal, with $k_{i,i}=k_i+k_{i+1}=2k$ and $k_{i,i+1}=k_{i+1,1}=-k_i=-k$."
      ]
    },
    {
      "cell_type": "code",
      "execution_count": null,
      "metadata": {
        "id": "dbB-L--093xW"
      },
      "outputs": [],
      "source": [
        "ones = np.ones(ns)\n",
        "M = np.diag(ones)\n",
        "K = np.diag(ones*2)\n",
        "K[-1,-1] = 1 # Because there is no other storey stiffness above the top...\n",
        "K = K - np.diag(ones[1:], -1) - np.diag(ones[1:], +1)"
      ]
    },
    {
      "cell_type": "markdown",
      "metadata": {
        "id": "Mh2KtN0t93xX"
      },
      "source": [
        "Possibly print the matrices… (toggle `False` with `True` — capitalization is important)"
      ]
    },
    {
      "cell_type": "code",
      "execution_count": null,
      "metadata": {
        "id": "UyzFge5t93xY"
      },
      "outputs": [],
      "source": [
        "print_matrices = False\n",
        "if print_matrices:\n",
        "    math(r'\\boldsymbol K = k\\,', pmat(K))\n",
        "    math(r'\\boldsymbol M = m\\,', pmat(M))"
      ]
    },
    {
      "cell_type": "markdown",
      "metadata": {
        "id": "aMp6IVZV93xY"
      },
      "source": [
        "### Our reference solution\n",
        "Compute the eigenvalues and eigenvectors using an algebra library, print the first 6 eigenvalues normalized wrt $\\omega_0^2=k/m$."
      ]
    },
    {
      "cell_type": "code",
      "execution_count": null,
      "metadata": {
        "id": "LICEouS593xZ"
      },
      "outputs": [],
      "source": [
        "evals, evecs = eigh(K, M)\n",
        "print(evals[:6])"
      ]
    },
    {
      "cell_type": "markdown",
      "metadata": {
        "id": "gUTWjzTL93xa"
      },
      "source": [
        "## Graphical Output\n",
        "### Function definition\n",
        "Define a function to help us showing our results.\n",
        "\n",
        "Important aspects of plotting these eigenvectors:\n",
        "1. the independent variable (the storey level) must be on the $y$ axis, the dependent variable (the storey lateral displacement) must be on the $x$ axis,\n",
        "1. we add to each eigenvector a zero term, to correctly plot the zero ground displacement."
      ]
    },
    {
      "cell_type": "code",
      "execution_count": null,
      "metadata": {
        "id": "GjU1opGt93xb"
      },
      "outputs": [],
      "source": [
        "def eigenplot(ns, evecs, n_evecs=None, norm=False, fig_ax=None, title=None):\n",
        "    if fig_ax is None:\n",
        "        fig, ax = plt.subplots(figsize=(4,6), constrained_layout=True)\n",
        "    else:\n",
        "        fig, ax = fig_ax   \n",
        "    if n_evecs is None: n_evecs = ns \n",
        "    x = np.arange(ns+1)\n",
        "    y = evecs/(np.abs(evecs).max(axis=0) if norm else 1)/np.sign(evecs[-1]) \n",
        "    y = np.vstack((np.zeros(y.shape[1]), y))\n",
        "    for i, evec in enumerate((y.T)[:n_evecs], 1): \n",
        "        ax.plot(evec, x, label='$\\\\psi_{%d}$'%i)\n",
        "    ax.legend() \n",
        "    ax.grid(visible=1, axis='y')\n",
        "    ax.set_yticks(range(ns+1))\n",
        "    #x.yaxis.set_major_locator(plt.MultipleLocator(1))\n",
        "    if title : ax.set_title(title)"
      ]
    },
    {
      "cell_type": "markdown",
      "metadata": {
        "id": "-pFFi4Y_93xc"
      },
      "source": [
        "### Check the function\n",
        "Using it to plot the first 6 eigenvectors"
      ]
    },
    {
      "cell_type": "code",
      "execution_count": null,
      "metadata": {
        "id": "PL-OjOso93xc"
      },
      "outputs": [],
      "source": [
        "eigenplot(ns, evecs, n_evecs=6, norm=True)"
      ]
    },
    {
      "cell_type": "markdown",
      "metadata": {
        "id": "_1Za0dxq93xc"
      },
      "source": [
        "## Matrix Iteration\n",
        "\n",
        "Compute 3 eigenvectors, using matrix iteration with sweeps.\n",
        "\n",
        "Initialize the dynamic matrix $\\mathbf D_0 = \\mathbf K^{-1}\\mathbf M$, and the sweeping matrix, $\\mathbf S = \\mathbf I$, then compute a mode using the modified dynamic matrix, after convergence update the sweeping matrix and compute another mode, until 3 modes have been computed."
      ]
    },
    {
      "cell_type": "code",
      "execution_count": null,
      "metadata": {
        "id": "cJ6jspNI93xd"
      },
      "outputs": [],
      "source": [
        "D0 = np.linalg.inv(K) @ M\n",
        "S = np.diag(ones)\n",
        "sevals, sevecs = [], []\n",
        "for i in range(3):\n",
        "    D, x, w2old = D0 @ S, ones, 0.0\n",
        "    for _ in range(25):\n",
        "        x_hat = D @ x\n",
        "        w2 = (x_hat @ M @ x) / (x_hat @ M @ x_hat)\n",
        "        x = x_hat*w2\n",
        "        if abs(w2-w2old)/w2 < 1E-8 : break\n",
        "        w2old = w2\n",
        "    else:\n",
        "        print('No convergence in 25 iterations') ; 1/0\n",
        "    sevals.append(w2), sevecs.append(x)\n",
        "    modal_m = x.T@M@x\n",
        "    S = S - np.outer(x,x)@M/modal_m\n",
        "sevals, sevecs = np.array(sevals), np.array(sevecs).T"
      ]
    },
    {
      "cell_type": "markdown",
      "metadata": {
        "id": "53SsZW2m93xd"
      },
      "source": [
        "Compare the exact eigenvalues (first row) and those computed using iteration with sweeps."
      ]
    },
    {
      "cell_type": "code",
      "execution_count": null,
      "metadata": {
        "id": "3XaRtUpS93xe"
      },
      "outputs": [],
      "source": [
        "print(evals[:3])\n",
        "print(sevals)\n"
      ]
    },
    {
      "cell_type": "markdown",
      "metadata": {
        "id": "8La-kCRn93xe"
      },
      "source": [
        "Now plot, side by side the eigenvectors computed by iteration with sweeps and the algebraic library — they are the same."
      ]
    },
    {
      "cell_type": "code",
      "execution_count": null,
      "metadata": {
        "id": "QwfSNJjG93xe"
      },
      "outputs": [],
      "source": [
        "fig, axes = plt.subplots(1,2,figsize=(8,8), constrained_layout=True)\n",
        "eigenplot(ns, sevecs, n_evecs=3, norm=1, fig_ax=(fig, axes[0]), title='Matrix Iteration')\n",
        "eigenplot(ns, evecs,  n_evecs=3, norm=1, fig_ax=(fig, axes[1]), title='\"Exact\" Eigenvectors')"
      ]
    },
    {
      "cell_type": "markdown",
      "metadata": {
        "id": "Yu8J46KB93xg"
      },
      "source": [
        "## Ritz-Rayleigh\n",
        "\n",
        "Use $M=8$ Ritz base vectors, here they are simply random vectors, you can do much better when you choose a more appropriate starting base (e.g., \"Derived Ritz Vectors\" in Clough Penzien).\n",
        "With our inefficient base, we compute the reduced matrices, the Ritz eigen* and finally the eigenvectors in structural coordinates."
      ]
    },
    {
      "cell_type": "code",
      "execution_count": null,
      "metadata": {
        "id": "3jCbSblK93xg"
      },
      "outputs": [],
      "source": [
        "M_base = 8\n",
        "ns = 12\n",
        "np.random.seed(20220512)\n",
        "phi = D0@(np.random.random((ns, M_base))-0.5)\n",
        "# uncomment the following two lines and re-execute this cell\n",
        "# to see what a wisely chosen base can do\n",
        "# phi = np.sin(np.outer((1+np.arange(ns))/ns,\n",
        "#             np.pi*(np.arange(M_base)*2+1)/2 ))\n",
        "k, m = phi.T@K@phi, phi.T@M@phi\n",
        "zevals, zevecs = eigh(k, m)\n",
        "psi = phi@zevecs"
      ]
    },
    {
      "cell_type": "markdown",
      "metadata": {
        "id": "4mXujY6Q93xh"
      },
      "source": [
        "Print the percent errors for all the $M$ eigenvalues"
      ]
    },
    {
      "cell_type": "code",
      "execution_count": null,
      "metadata": {
        "id": "P40qHvnw93xh"
      },
      "outputs": [],
      "source": [
        "print('(Mode no., error%)', \n",
        "      *enumerate(100*(zevals-evals[:M_base])/evals[:M_base], 1), sep='\\n')"
      ]
    },
    {
      "cell_type": "markdown",
      "metadata": {
        "id": "3O8tE0Cp93xi"
      },
      "source": [
        "and eventually plot, side by side, a few of the RR eigenvectors and the real ones."
      ]
    },
    {
      "cell_type": "code",
      "execution_count": null,
      "metadata": {
        "id": "RjFujxml93xi"
      },
      "outputs": [],
      "source": [
        "fig, axes = plt.subplots(1,2,figsize=(8,8), constrained_layout=True)\n",
        "eigenplot(ns, psi,   n_evecs=6, norm=0, fig_ax=(fig, axes[0]), title='Rayleigh-Ritz')\n",
        "eigenplot(ns, evecs, n_evecs=6, norm=0, fig_ax=(fig, axes[1]), title='\"Exact\" Eigenvectors')"
      ]
    },
    {
      "cell_type": "markdown",
      "metadata": {
        "id": "muF6VkKo93xi"
      },
      "source": [
        "## Subspace Iteration no.1\n",
        "\n",
        "4 Ritz vectors"
      ]
    },
    {
      "cell_type": "code",
      "execution_count": null,
      "metadata": {
        "id": "M4i6ly_U93xj"
      },
      "outputs": [],
      "source": [
        "np.random.seed(20220512)\n",
        "psi = np.random.random((ns, 4))\n",
        "for i in range(2):\n",
        "    phi = D0@psi\n",
        "    k, m = phi.T@K@phi, phi.T@M@phi\n",
        "    zevals, zevecs = eigh(k, m)\n",
        "    psi = phi@zevecs\n",
        "print('Ex', evals[:4])\n",
        "print('SI', zevals[:4])"
      ]
    },
    {
      "cell_type": "code",
      "execution_count": null,
      "metadata": {
        "id": "Z-4JRWqS93xk"
      },
      "outputs": [],
      "source": [
        "fig, axes = plt.subplots(1,2,figsize=(8,8), constrained_layout=True)\n",
        "eigenplot(ns, psi,   n_evecs=4, norm=1, fig_ax=(fig, axes[0]), title='2 Subspace Iterations, M=4')\n",
        "eigenplot(ns, evecs, n_evecs=4, norm=1, fig_ax=(fig, axes[1]), title='\"Exact\" Eigenvectors')"
      ]
    },
    {
      "cell_type": "markdown",
      "metadata": {
        "id": "IM5b4S0i93xk"
      },
      "source": [
        "## Subspace Iteration no. 2\n",
        "\n",
        "8 Ritz vectors"
      ]
    },
    {
      "cell_type": "code",
      "execution_count": null,
      "metadata": {
        "id": "dD8uEzES93xl"
      },
      "outputs": [],
      "source": [
        "np.random.seed(20220512)\n",
        "psi = np.random.random((ns, 8))\n",
        "for i in range(2):\n",
        "    phi = D0@psi\n",
        "    k, m = phi.T@K@phi, phi.T@M@phi\n",
        "    zevals, zevecs = eigh(k, m)\n",
        "    psi = phi@zevecs\n",
        "print('Exact   ', evals[:4])\n",
        "print('SubSpace', zevals[:4])"
      ]
    },
    {
      "cell_type": "code",
      "execution_count": null,
      "metadata": {
        "id": "Tdwd52Ef93xl"
      },
      "outputs": [],
      "source": [
        "fig, axes = plt.subplots(1,2,figsize=(8,8), constrained_layout=True)\n",
        "eigenplot(ns, psi,   n_evecs=4, norm=1, fig_ax=(fig, axes[0]), title='2 Subspace Iterations, M=8')\n",
        "eigenplot(ns, evecs, n_evecs=4, norm=1, fig_ax=(fig, axes[1]), title='\"Exact\" Eigenvectors')"
      ]
    },
    {
      "cell_type": "markdown",
      "metadata": {
        "id": "VVXvdhHP93xm"
      },
      "source": [
        "### A Larger Problem…\n",
        "\n"
      ]
    },
    {
      "cell_type": "code",
      "execution_count": null,
      "metadata": {
        "id": "ZwKIVXn793xm"
      },
      "outputs": [],
      "source": [
        "########\n",
        "ns =  50\n",
        "########\n",
        "big_ones = np.ones(ns)\n",
        "Mbig = np.diag(big_ones)\n",
        "Kbig = Mbig*2\n",
        "Kbig[-1,-1] = 1\n",
        "Kbig = (Kbig - np.diag(big_ones[1:], -1) - np.diag(big_ones[1:], +1))*1000\n",
        "evals, evecs = eigh(Kbig, Mbig)\n",
        "D0 = np.linalg.inv(Kbig)@Mbig"
      ]
    },
    {
      "cell_type": "code",
      "execution_count": null,
      "metadata": {
        "id": "iueuJJTz93xn"
      },
      "outputs": [],
      "source": [
        "np.random.seed(20220512)\n",
        "psi = np.random.random((ns, 4))\n",
        "for i in range(3):\n",
        "    phi = D0@psi\n",
        "    k, m = phi.T@Kbig@phi, phi.T@Mbig@phi\n",
        "    zevals, zevecs = eigh(k, m)\n",
        "    psi = phi@zevecs\n",
        "print('Ex', evals[:4])\n",
        "print('SI', zevals[:4])"
      ]
    },
    {
      "cell_type": "code",
      "execution_count": null,
      "metadata": {
        "id": "95wKv96993xn"
      },
      "outputs": [],
      "source": [
        "fig, axes = plt.subplots(1,2,figsize=(8,8), constrained_layout=True)\n",
        "eigenplot(ns, psi,   n_evecs=4, norm=0, fig_ax=(fig, axes[0]), title='2 Subspace Iterations, M=4')\n",
        "eigenplot(ns, evecs, n_evecs=4, norm=0, fig_ax=(fig, axes[1]), title='\"Exact\" Eigenvectors')"
      ]
    },
    {
      "cell_type": "code",
      "execution_count": null,
      "metadata": {
        "id": "4hv7joSM93xn"
      },
      "outputs": [],
      "source": [
        "np.random.seed(20220512)\n",
        "psi = np.random.random((ns, 6))\n",
        "for i in range(4):\n",
        "    phi = D0@psi\n",
        "    k, m = phi.T@Kbig@phi, phi.T@Mbig@phi\n",
        "    zevals, zevecs = eigh(k, m)\n",
        "    psi = phi@zevecs\n",
        "print('                    Eigenvalues 1 to 4')\n",
        "print('             Exact', evals[:4])\n",
        "print('Subspace Iteration', zevals[:4])"
      ]
    },
    {
      "cell_type": "code",
      "execution_count": null,
      "metadata": {
        "id": "bYnbZUNi93xo"
      },
      "outputs": [],
      "source": [
        "fig, axes = plt.subplots(1,2,figsize=(8,8), constrained_layout=True)\n",
        "eigenplot(ns, psi,   n_evecs=4, norm=1, fig_ax=(fig, axes[0]), title='2 Subspace Iterations, M=6')\n",
        "eigenplot(ns, evecs, n_evecs=4, norm=1, fig_ax=(fig, axes[1]), title='\"Exact\" Eigenvectors')"
      ]
    },
    {
      "cell_type": "code",
      "execution_count": null,
      "metadata": {
        "id": "5qIOTgOa93xo"
      },
      "outputs": [],
      "source": []
    }
  ],
  "metadata": {
    "celltoolbar": "Slideshow",
    "kernelspec": {
      "display_name": "Python 3.9 (ipykernel)",
      "language": "python",
      "name": "python3.9"
    },
    "language_info": {
      "codemirror_mode": {
        "name": "ipython",
        "version": 3
      },
      "file_extension": ".py",
      "mimetype": "text/x-python",
      "name": "python",
      "nbconvert_exporter": "python",
      "pygments_lexer": "ipython3",
      "version": "3.9.12"
    },
    "colab": {
      "private_outputs": true,
      "provenance": [],
      "include_colab_link": true
    }
  },
  "nbformat": 4,
  "nbformat_minor": 0
}