{
  "cells": [
    {
      "cell_type": "markdown",
      "metadata": {
        "id": "view-in-github",
        "colab_type": "text"
      },
      "source": [
        "<a href=\"https://colab.research.google.com/github/mehdihatami1998/DynamicsOfStructures/blob/main/L07_Response_by_FFT.ipynb\" target=\"_parent\"><img src=\"https://colab.research.google.com/assets/colab-badge.svg\" alt=\"Open In Colab\"/></a>"
      ]
    },
    {
      "cell_type": "markdown",
      "metadata": {
        "id": "agSdeqxuEbVU"
      },
      "source": [
        "Configure the plotting machinery and the vectorized math libraries."
      ]
    },
    {
      "cell_type": "code",
      "execution_count": null,
      "metadata": {
        "id": "4Mc3OQmUEbVY"
      },
      "outputs": [],
      "source": [
        "%matplotlib inline\n",
        "%config InlineBackend.figure_format = 'svg'\n",
        "\n",
        "import matplotlib.pyplot as plt\n",
        "import numpy as np\n",
        "\n",
        "from matplotlib import rcParams \n",
        "rcParams['figure.figsize'] = 9,4\n",
        "black=\"#404060\""
      ]
    },
    {
      "cell_type": "markdown",
      "metadata": {
        "id": "NZCD0d61EbVZ"
      },
      "source": [
        "## Response Analysis in the Frequency Domain<br> <small>an Example</small>"
      ]
    },
    {
      "cell_type": "markdown",
      "metadata": {
        "id": "aVIxfwBIEbVa"
      },
      "source": [
        "##### Samples"
      ]
    },
    {
      "cell_type": "code",
      "execution_count": null,
      "metadata": {
        "id": "pwg5R8ISEbVa"
      },
      "outputs": [],
      "source": [
        "plt.figure(figsize=(9.0,1.1));\n",
        "plt.subplot(1,2,1); plt.plot((0,1,3),(0,40,0)); plt.xticks((0,1,3)); plt.yticks((0,40))\n",
        "plt.xlabel('t/s'); plt.ylabel('p(t)/kN'); plt.grid();\n",
        "plt.subplot(1,2,2); plt.plot((0,1,3,8),(0,40,0,0)); plt.xticks((0,1,3,8)); plt.yticks((0,40))\n",
        "plt.xlabel('t/s'); plt.ylabel('p(t)/kN'); plt.grid();\n"
      ]
    },
    {
      "cell_type": "markdown",
      "metadata": {
        "id": "Dmu85rVTEbVa"
      },
      "source": [
        "We want to replicate the solution obtained for a triangular load using the _Duhamel Integral_.\n",
        "\n",
        "Our load is 3s long, but we need a stretch of zeros to damp out the response and _simulate_ rest initial conditions. We add zeros to the end of the load up to \n",
        "a total duration of 8s. The period of our loading is hence, rather arbitrarily,\n",
        "$T=8\\,{}$s."
      ]
    },
    {
      "cell_type": "markdown",
      "metadata": {
        "id": "SGgAWIIMEbVb"
      },
      "source": [
        "In our exercise, we are free to choose the number of _samples per second_,\n",
        "so we chose 512 sps.\n",
        "\n",
        "How many samples are there? $N = 8\\times512=4096$, note that $N$ is a power of 2."
      ]
    },
    {
      "cell_type": "code",
      "execution_count": null,
      "metadata": {
        "id": "6EefPxTPEbVb"
      },
      "outputs": [],
      "source": [
        "T = 8\n",
        "sps = 512\n",
        "print(\"The Nyquist frequency is \", sps/2.0,\"Hz\")"
      ]
    },
    {
      "cell_type": "markdown",
      "metadata": {
        "id": "zxRb4ZvAEbVc"
      },
      "source": [
        "  \n",
        "  ##### Load definition"
      ]
    },
    {
      "cell_type": "markdown",
      "metadata": {
        "id": "1TEF-fHBEbVc"
      },
      "source": [
        "The _array_ `t` contains the times at which our signal was sampled, the load `p` is computed using the library function `where`, syntactically  very similar to `IF` in a spreadsheet"
      ]
    },
    {
      "cell_type": "code",
      "execution_count": null,
      "metadata": {
        "id": "_Yk7SDF3EbVc"
      },
      "outputs": [],
      "source": [
        "t = np.arange(0,T,1./sps)\n",
        "p = np.where(t>3, 0, np.where(t<1, t*40000, 40000*(3-t)/2))"
      ]
    },
    {
      "cell_type": "markdown",
      "metadata": {
        "id": "oDQldMLuEbVc"
      },
      "source": [
        "Am I sure that the _list_ p contains the values of the loading?\n",
        "\n",
        "Let's try to plot p vs t..."
      ]
    },
    {
      "cell_type": "code",
      "execution_count": null,
      "metadata": {
        "id": "2pqjIwV4EbVd"
      },
      "outputs": [],
      "source": [
        "# matplotlib.rcParams['figure.figsize'] = 9,4\n",
        "plt.plot(t, p, black) ; plt.xlabel(\"t/s\") ; plt.ylabel(\"p(t)/N\")\n",
        "plt.ylim((-5000,45000));"
      ]
    },
    {
      "cell_type": "markdown",
      "metadata": {
        "id": "WV9UEI4xEbVd"
      },
      "source": [
        "It looks OK..."
      ]
    },
    {
      "cell_type": "markdown",
      "metadata": {
        "id": "AIvU_WvYEbVd"
      },
      "source": [
        "##### FFT of the loading"
      ]
    },
    {
      "cell_type": "markdown",
      "metadata": {
        "id": "jRQLIbWLEbVd"
      },
      "source": [
        "Now, the fast Fourier transform of the sequence p is computed, and given a name, P.\n",
        "\n",
        "It is customary to denote Fourier pairs by the same letter, the small letter for the time domain representation and the capital letter for the frequency domain representation."
      ]
    },
    {
      "cell_type": "code",
      "execution_count": null,
      "metadata": {
        "id": "A6v6QMvdEbVd"
      },
      "outputs": [],
      "source": [
        "import numpy.fft as fft\n",
        "\n",
        "P = fft.fft(p)\n",
        "iP = fft.ifft(P)"
      ]
    },
    {
      "cell_type": "markdown",
      "metadata": {
        "id": "GpLP-8hhEbVd"
      },
      "source": [
        "I have computed also the _inverse_ FFT of the FFT of the loading, naming it iP, it is a sequence of complex numbers and here we plot the real and the imaginary part of each component versus time."
      ]
    },
    {
      "cell_type": "code",
      "execution_count": null,
      "metadata": {
        "id": "ZwsxJldtEbVe"
      },
      "outputs": [],
      "source": [
        "plt.plot(t,np.real(iP),black,t,1*np.imag(iP),'y')\n",
        "plt.xlabel(\"t/s\") ; plt.ylabel(\"p(t)/N\") ;"
      ]
    },
    {
      "cell_type": "markdown",
      "metadata": {
        "id": "IEozrLYkEbVe"
      },
      "source": [
        "It seems OK..."
      ]
    },
    {
      "cell_type": "markdown",
      "metadata": {
        "id": "4s07Kn28EbVe"
      },
      "source": [
        "Next, we use a convenience function to compute a sequence of frequencies (in Hertz!) associated with the components of P, the FFT of p. The parameters are the number of points and the sampling interval..\n",
        "\n",
        "Note that the sequence of frequencies has a discontinuity when the Nyquist frequency\n",
        "is reached, i.e., the next frequency is the most negative one."
      ]
    },
    {
      "cell_type": "code",
      "execution_count": null,
      "metadata": {
        "id": "Rdpakt-kEbVe"
      },
      "outputs": [],
      "source": [
        "f = fft.fftfreq(T*sps, 1./sps)\n",
        "plt.plot(f) ; plt.xlabel('n') ; plt.ylabel('Hz')\n",
        "plt.xticks(range(0,4097,512)) ; plt.yticks(range(-256,257,64))\n",
        "plt.grid()"
      ]
    },
    {
      "cell_type": "markdown",
      "metadata": {
        "id": "VR737rZ7EbVe"
      },
      "source": [
        "##### Plots of P, the FFT of p"
      ]
    },
    {
      "cell_type": "markdown",
      "metadata": {
        "id": "Ll_OMitiEbVe"
      },
      "source": [
        "The x axis is streching over the interval $-f_\\text{Ny}$, $+f_\\text{Ny}$"
      ]
    },
    {
      "cell_type": "code",
      "execution_count": null,
      "metadata": {
        "id": "rgqgsJEoEbVf"
      },
      "outputs": [],
      "source": [
        "plt.plot(f, np.real(P), black, f, np.imag(P), 'b')\n",
        "plt.xlim(-256,256) ; plt.xticks(range(-256,257,64))\n",
        "plt.xlabel(\"f/Hz\") ; plt.ylabel(\"P(f)\") ;"
      ]
    },
    {
      "cell_type": "markdown",
      "metadata": {
        "id": "oKjzS7oOEbVf"
      },
      "source": [
        "The plot above is not much clear, because the frequency components are significantly different from zero only in a narrow range of frequencies around the origin."
      ]
    },
    {
      "cell_type": "markdown",
      "metadata": {
        "id": "95v7yhMEEbVf"
      },
      "source": [
        "In the next 3 plots we zoom near the origin of the frequency axis to have a bit more of detail. There are 3 plots, first the absolute value of P vs f, then the real part and finally the imaginary part of P, versus f."
      ]
    },
    {
      "cell_type": "code",
      "execution_count": null,
      "metadata": {
        "id": "iQeBzsByEbVf"
      },
      "outputs": [],
      "source": [
        "plt.plot(f, np.abs(P), black)\n",
        "plt.xticks(range(-4,5,2))\n",
        "plt.xlabel(\"f/Hz\") ; plt.ylabel(\"abs(P(f))\")\n",
        "plt.xlim(-4, 4) ; plt.ylim(-0.2E7, 3.3E7);"
      ]
    },
    {
      "cell_type": "markdown",
      "metadata": {
        "id": "REv9lrTAEbVf"
      },
      "source": [
        "Not afwully nice, this last plot...the baseline and the missing line\n",
        "at the left of the zero are artifacts, due do the particular sequence\n",
        "with which the positive and negative frequencies are arranged in the DFT output."
      ]
    },
    {
      "cell_type": "markdown",
      "metadata": {
        "id": "lGR20QIwEbVf"
      },
      "source": [
        "To obviate these problems we can use the function `fftshift`, that reorders (shifts)\n",
        "the elements in an array such that the sequence goes from the most negative\n",
        "frequency to the most positive."
      ]
    },
    {
      "cell_type": "code",
      "execution_count": null,
      "metadata": {
        "id": "8B4J_8knEbVf"
      },
      "outputs": [],
      "source": [
        "plt.plot(fft.fftshift(f), fft.fftshift(np.abs(P)), black)\n",
        "plt.axhline(0, color=black, linewidth=0.25)\n",
        "plt.xticks(range(-4, 5, 2))\n",
        "plt.xlabel(\"f/Hz\") ; plt.ylabel(\"abs(P(f))\")\n",
        "plt.xlim(-4, 4) ; plt.ylim(-0.2E7, 3.3E7);"
      ]
    },
    {
      "cell_type": "markdown",
      "metadata": {
        "id": "bAs0qVgnEbVf"
      },
      "source": [
        "and now the other two plots I promised,"
      ]
    },
    {
      "cell_type": "code",
      "execution_count": null,
      "metadata": {
        "id": "mDNC39QZEbVf"
      },
      "outputs": [],
      "source": [
        "plt.plot(fft.fftshift(f), fft.fftshift(np.real(P)), black)\n",
        "plt.axhline(0, color=black, linewidth=0.25)\n",
        "plt.xticks(range(-4, 5, 2))\n",
        "plt.xlabel(\"f/Hz\") ; plt.ylabel(\"real(P(f))\")\n",
        "plt.xlim(-4, 4) ; plt.ylim(-3.3E7, 3.3E7);"
      ]
    },
    {
      "cell_type": "code",
      "execution_count": null,
      "metadata": {
        "id": "lEWZXYxFEbVg"
      },
      "outputs": [],
      "source": [
        "plt.plot(fft.fftshift(f), fft.fftshift(np.imag(P)), black)\n",
        "plt.axhline(0, color=black, linewidth=0.25)\n",
        "plt.xticks(range(-4, 5, 2))\n",
        "plt.xlabel(\"f/Hz\") ; plt.ylabel(\"imag(P(f))\")\n",
        "plt.xlim(-4, 4) ; plt.ylim(-3.3E7, 3.3E7);"
      ]
    },
    {
      "cell_type": "markdown",
      "metadata": {
        "id": "uiOFdLLfEbVg"
      },
      "source": [
        "##### The response function"
      ]
    },
    {
      "cell_type": "markdown",
      "metadata": {
        "id": "ydF2tIq9EbVg"
      },
      "source": [
        "Until now, we did without the SDOF, now it's time to describe it and derive its _response function_.\n",
        "\n",
        "All the parameters are the same as in the excel example, we compute k because we need it to normalize the response."
      ]
    },
    {
      "cell_type": "code",
      "execution_count": null,
      "metadata": {
        "id": "DROL6Jk8EbVg"
      },
      "outputs": [],
      "source": [
        "z = 0.1; fn = 1/0.6 ; m =6E5 ; wn = fn*2*np.pi ; k = m*wn**2\n",
        "\n",
        "def H(f, z, fn):\n",
        "    b = f/fn\n",
        "    return 1./((1-b*b)+1j*(2*z*b))"
      ]
    },
    {
      "cell_type": "markdown",
      "metadata": {
        "id": "g2QpBaEyEbVg"
      },
      "source": [
        "As usual, we plot the response function, or rather the absolute value of, against a short span of the frequency axis, centered about the origin, to show the details of the response function itself."
      ]
    },
    {
      "cell_type": "code",
      "execution_count": null,
      "metadata": {
        "id": "ZAw8kOzpEbVg"
      },
      "outputs": [],
      "source": [
        "plt.plot(fft.fftshift(f), fft.fftshift(np.abs(H(f, z, fn))))\n",
        "plt.xlabel(\"f/Hz\") ; plt.xlim(-8, 8) ; plt.ylabel(\"H(f)\") ;"
      ]
    },
    {
      "cell_type": "markdown",
      "metadata": {
        "id": "_EUDk-6OEbVg"
      },
      "source": [
        "##### Computing the response"
      ]
    },
    {
      "cell_type": "markdown",
      "metadata": {
        "id": "6P-TbAjGEbVg"
      },
      "source": [
        "The FFT of the response is computed multiplying, term by term, P by the _transfer_ function, then we compute the IFFT of X to obtain x, the _time domain representation_ of the response."
      ]
    },
    {
      "cell_type": "code",
      "execution_count": null,
      "metadata": {
        "id": "6Rxv3lHZEbVg"
      },
      "outputs": [],
      "source": [
        "X = P * H(f, z, fn)\n",
        "x = fft.ifft(X)/k"
      ]
    },
    {
      "cell_type": "markdown",
      "metadata": {
        "id": "ZWgU5MVYEbVh"
      },
      "source": [
        "Note that the response function is _periodic_ with period $T=8\\,{}$s."
      ]
    },
    {
      "cell_type": "markdown",
      "metadata": {
        "id": "4kQTmpv5EbVh"
      },
      "source": [
        "In the end, we remain with the task of plotting the response function, that is the real part of `x`. Just to be certain we plot also the imaginary part of `x`, so we can be sure that it is negligible with respect to the real part"
      ]
    },
    {
      "cell_type": "code",
      "execution_count": null,
      "metadata": {
        "id": "JUEfX5pyEbVh"
      },
      "outputs": [],
      "source": [
        "plt.plot(t, 1000*np.real(x))\n",
        "plt.xlabel(\"t/s\") ; plt.ylabel(r\"$\\Re(x)/$mm\");\n",
        "plt.axhline(0, color=black, linewidth=0.25);"
      ]
    },
    {
      "cell_type": "code",
      "execution_count": null,
      "metadata": {
        "id": "85JyMPZmEbVh"
      },
      "outputs": [],
      "source": [
        "plt.plot(t, 1E18*np.imag(x), linewidth=0.33) # I'm plotting attometres!\n",
        "plt.axhline(0, color=black, linewidth=0.25)\n",
        "plt.xlabel(\"t/s\") ; plt.ylabel(r\"$\\Im(x)/$am\");"
      ]
    },
    {
      "cell_type": "markdown",
      "metadata": {
        "id": "J8SyOkRmEbVh"
      },
      "source": [
        "  ##### The zero trail"
      ]
    },
    {
      "cell_type": "markdown",
      "metadata": {
        "id": "VQcYmC-GEbVh"
      },
      "source": [
        "The importance of the zero trail to _adjust_ for initial rest condition cannot be\n",
        "underestimated. The length required depends, of course, on how much damped our system is,\n",
        "the lesser the damping, the longer the time required to damp out the response."
      ]
    },
    {
      "cell_type": "markdown",
      "metadata": {
        "id": "wIClW3n5EbVh"
      },
      "source": [
        "Lets try to see what happens if we go from $\\zeta=0.10$ to $\\zeta=0.01$:"
      ]
    },
    {
      "cell_type": "code",
      "execution_count": null,
      "metadata": {
        "id": "vYpQuDfBEbVh"
      },
      "outputs": [],
      "source": [
        "X = P * H(f, 0.01, fn)\n",
        "x = fft.ifft(X)/k\n",
        "plt.plot(t, 1000*np.real(x))\n",
        "plt.axhline(0, color=black, linewidth=0.25)\n",
        "plt.xlabel(\"t/s\") ; plt.ylabel(r\"$\\Re(x)/$mm\");"
      ]
    }
  ],
  "metadata": {
    "celltoolbar": "Slideshow",
    "kernelspec": {
      "display_name": "Python 3 (ipykernel)",
      "language": "python",
      "name": "python3"
    },
    "language_info": {
      "codemirror_mode": {
        "name": "ipython",
        "version": 3
      },
      "file_extension": ".py",
      "mimetype": "text/x-python",
      "name": "python",
      "nbconvert_exporter": "python",
      "pygments_lexer": "ipython3",
      "version": "3.8.12"
    },
    "colab": {
      "provenance": [],
      "include_colab_link": true
    }
  },
  "nbformat": 4,
  "nbformat_minor": 0
}